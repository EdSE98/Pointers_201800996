{
  "nbformat": 4,
  "nbformat_minor": 0,
  "metadata": {
    "colab": {
      "name": "Listas doblemente Enlasadas.ipynb",
      "provenance": [],
      "include_colab_link": true
    },
    "kernelspec": {
      "name": "python3",
      "display_name": "Python 3"
    },
    "language_info": {
      "name": "python"
    }
  },
  "cells": [
    {
      "cell_type": "markdown",
      "metadata": {
        "id": "view-in-github",
        "colab_type": "text"
      },
      "source": [
        "<a href=\"https://colab.research.google.com/github/EdSE98/Pointers_201800996/blob/master/Listas_doblemente_Enlasadas.ipynb\" target=\"_parent\"><img src=\"https://colab.research.google.com/assets/colab-badge.svg\" alt=\"Open In Colab\"/></a>"
      ]
    },
    {
      "cell_type": "markdown",
      "metadata": {
        "id": "enKHlGVbgu9O"
      },
      "source": [
        "##**Listas Doblemente Enlazadas**\n",
        "**Definición de la clase Estudiante**"
      ]
    },
    {
      "cell_type": "code",
      "metadata": {
        "id": "NiuLqvRygNZj"
      },
      "source": [
        "class estudiante:\n",
        "  def __init__(self, carne, nombre, edad, direccion, telefono, email, carrera, puesto):\n",
        "    self.carne = carne\n",
        "    self.nombre = nombre\n",
        "    self.edad = edad\n",
        "    self.direccion = direccion\n",
        "    self.telefono = telefono\n",
        "    self.email = email\n",
        "    self.carrera = carrera\n",
        "    self.puesto = puesto"
      ],
      "execution_count": null,
      "outputs": []
    },
    {
      "cell_type": "markdown",
      "metadata": {
        "id": "QdN3MjsPgaOA"
      },
      "source": [
        "**Definición de la clase Nodo**"
      ]
    },
    {
      "cell_type": "code",
      "metadata": {
        "id": "7xkje2O_ga4Q"
      },
      "source": [
        "class nodo:\n",
        "  def __init__(self, estudiante=None, siguiente=None, anterior=None):\n",
        "    self.estudiante = estudiante\n",
        "    self.siguiente = siguiente\n",
        "    self.anterior = anterior"
      ],
      "execution_count": null,
      "outputs": []
    },
    {
      "cell_type": "markdown",
      "metadata": {
        "id": "AemK9RYbg4rv"
      },
      "source": [
        "**Definición de la clase Lista Doblemente Enlazada**"
      ]
    },
    {
      "cell_type": "code",
      "metadata": {
        "id": "0hkRWbLfg6ui"
      },
      "source": [
        "class lista_doble:\n",
        "  def __init__(self):\n",
        "    self.primero = None\n",
        "\n",
        "  def insertar(self, estudiante):\n",
        "    if self.primero is None:\n",
        "      self.primero = nodo(estudiante=estudiante)\n",
        "    else:\n",
        "      actual = nodo(estudiante=estudiante, siguiente=self.primero)\n",
        "      self.primero.anterior = actual\n",
        "      self.primero = actual\n",
        "  \n",
        "  def recorrer(self):\n",
        "    if self.primero is None:\n",
        "      return\n",
        "    actual = self.primero\n",
        "    print(\"carne:\", actual.estudiante.carne, \"nombre:\", actual.estudiante.nombre, \"email:\", actual.estudiante.email, \"->\")\n",
        "    while actual.siguiente:\n",
        "      actual = actual.siguiente\n",
        "      print(\"carne:\", actual.estudiante.carne, \"nombre:\", actual.estudiante.nombre, \"email:\", actual.estudiante.email, \"->\")\n",
        "  \n",
        "  def eliminar(self, carne):\n",
        "    actual = self.primero\n",
        "    while actual:\n",
        "      if actual.estudiante.carne == carne:\n",
        "        if actual.anterior:\n",
        "          if actual.siguiente:\n",
        "            actual.anterior.siguiente = actual.siguiente\n",
        "            actual.siguiente.anterior = actual.anterior\n",
        "          else:\n",
        "            actual.anterior.siguiente = None\n",
        "            actual.anterior = None\n",
        "        else:\n",
        "          if actual.siguiente:\n",
        "            self.primero = actual.siguiente\n",
        "            actual.siguiente.anterior = None\n",
        "          else:\n",
        "            self.primero = None\n",
        "        return True\n",
        "      else:\n",
        "        actual = actual.siguiente\n",
        "    return False\n",
        "  \n",
        "  def buscar(self, carne):\n",
        "    actual = self.primero\n",
        "\n",
        "    while actual and actual.estudiante.carne != carne:\n",
        "      actual = actual.siguiente\n",
        "    \n",
        "    if actual is None:\n",
        "      print('El nodo no existe en la lista')\n",
        "    elif actual:\n",
        "      print(\"carne:\", actual.estudiante.carne, \"nombre:\", actual.estudiante.nombre, \"email:\", actual.estudiante.email)"
      ],
      "execution_count": null,
      "outputs": []
    },
    {
      "cell_type": "markdown",
      "metadata": {
        "id": "VdZIPkuog9xD"
      },
      "source": [
        "**Creación de objetos Estudiante**"
      ]
    },
    {
      "cell_type": "code",
      "metadata": {
        "id": "IyxAaH0Rg_Zf"
      },
      "source": [
        "e1 = estudiante(201915059, \"Gerson Ortiz\", 20, \"9 calle 10.02 zona 1\", 24400101, \"gerson.ortiz@gmail.com\", \"Ingeniería en Sistemas\", \"Programador Jr\")\n",
        "e2 = estudiante(201915860, \"Karen Hurtarte\", 21, \"7 calle 10.02 zona 1\", 24400101, \"karen.hurarte@gmail.com\", \"Ingeniería en Sistemas\", \"Programador Jr\")\n",
        "e3 = estudiante(201915861, \"Luis Mendez\", 21, \"8 calle 10.02 zona 1\", 24400101, \"luis.mendez@gmail.com\", \"Ingeniería en Sistemas\", \"Programador Jr\")"
      ],
      "execution_count": null,
      "outputs": []
    },
    {
      "cell_type": "markdown",
      "metadata": {
        "id": "henGeG60hBbX"
      },
      "source": [
        "**Inserción**"
      ]
    },
    {
      "cell_type": "code",
      "metadata": {
        "id": "GkuINpbXhCwl"
      },
      "source": [
        "lista_d = lista_doble()\n",
        "lista_d.insertar(e1)\n",
        "lista_d.insertar(e2)\n",
        "lista_d.insertar(e3)"
      ],
      "execution_count": null,
      "outputs": []
    },
    {
      "cell_type": "markdown",
      "metadata": {
        "id": "r6I5-tQQhEMv"
      },
      "source": [
        "**Recorrer la lista**"
      ]
    },
    {
      "cell_type": "code",
      "metadata": {
        "colab": {
          "base_uri": "https://localhost:8080/"
        },
        "id": "ogx4Rw0ShJbN",
        "outputId": "197f0dd6-4a62-41d6-d617-e81a6c976352"
      },
      "source": [
        "lista_d.recorrer()"
      ],
      "execution_count": null,
      "outputs": [
        {
          "output_type": "stream",
          "text": [
            "carne: 201915861 nombre: Luis Mendez email: luis.mendez@gmail.com ->\n",
            "carne: 201915860 nombre: Karen Hurtarte email: karen.hurarte@gmail.com ->\n",
            "carne: 201915059 nombre: Gerson Ortiz email: gerson.ortiz@gmail.com ->\n"
          ],
          "name": "stdout"
        }
      ]
    },
    {
      "cell_type": "markdown",
      "metadata": {
        "id": "D1ix0MYDhxdP"
      },
      "source": [
        "**Eliminar el nodo del medio de la lista**"
      ]
    },
    {
      "cell_type": "code",
      "metadata": {
        "colab": {
          "base_uri": "https://localhost:8080/"
        },
        "id": "HJYqrYzZhzmX",
        "outputId": "080980b3-12dc-4f40-f40f-82c36f31b454"
      },
      "source": [
        "lista_d.eliminar(201915860)"
      ],
      "execution_count": null,
      "outputs": [
        {
          "output_type": "execute_result",
          "data": {
            "text/plain": [
              "True"
            ]
          },
          "metadata": {},
          "execution_count": 41
        }
      ]
    },
    {
      "cell_type": "code",
      "metadata": {
        "colab": {
          "base_uri": "https://localhost:8080/"
        },
        "id": "r_l8mdPXh3tD",
        "outputId": "7fe0dd95-1607-4987-94c5-a7866edf2b39"
      },
      "source": [
        "lista_d.recorrer()"
      ],
      "execution_count": null,
      "outputs": [
        {
          "output_type": "stream",
          "text": [
            "carne: 201915861 nombre: Luis Mendez email: luis.mendez@gmail.com ->\n",
            "carne: 201915059 nombre: Gerson Ortiz email: gerson.ortiz@gmail.com ->\n"
          ],
          "name": "stdout"
        }
      ]
    },
    {
      "cell_type": "markdown",
      "metadata": {
        "id": "K-q-rBJBh5Al"
      },
      "source": [
        "**Eliminar el nodo primero de la lista**"
      ]
    },
    {
      "cell_type": "code",
      "metadata": {
        "colab": {
          "base_uri": "https://localhost:8080/"
        },
        "id": "_Vya24erh7EJ",
        "outputId": "c1ce6704-8581-4e46-9956-c1de2bbac101"
      },
      "source": [
        "lista_d.eliminar(201915861)"
      ],
      "execution_count": null,
      "outputs": [
        {
          "output_type": "execute_result",
          "data": {
            "text/plain": [
              "True"
            ]
          },
          "metadata": {},
          "execution_count": 43
        }
      ]
    },
    {
      "cell_type": "code",
      "metadata": {
        "colab": {
          "base_uri": "https://localhost:8080/"
        },
        "id": "a34V4MYnh9S5",
        "outputId": "24c47bc0-dd7f-4b2e-cf6f-aae28b83cf78"
      },
      "source": [
        "lista_d.recorrer()"
      ],
      "execution_count": null,
      "outputs": [
        {
          "output_type": "stream",
          "text": [
            "carne: 201915059 nombre: Gerson Ortiz email: gerson.ortiz@gmail.com ->\n"
          ],
          "name": "stdout"
        }
      ]
    },
    {
      "cell_type": "markdown",
      "metadata": {
        "id": "TPQRlOX5h_Ye"
      },
      "source": [
        "**Eliminar el último nodo de la lista**"
      ]
    },
    {
      "cell_type": "code",
      "metadata": {
        "colab": {
          "base_uri": "https://localhost:8080/"
        },
        "id": "Lrn-Up7GiIWf",
        "outputId": "231df757-c68c-4ad5-b03a-79982096d0f1"
      },
      "source": [
        "lista_d.eliminar(201915059)"
      ],
      "execution_count": null,
      "outputs": [
        {
          "output_type": "execute_result",
          "data": {
            "text/plain": [
              "True"
            ]
          },
          "metadata": {},
          "execution_count": 45
        }
      ]
    },
    {
      "cell_type": "code",
      "metadata": {
        "id": "2TL8ZRbTiLvn"
      },
      "source": [
        "lista_d.recorrer()"
      ],
      "execution_count": null,
      "outputs": []
    },
    {
      "cell_type": "markdown",
      "metadata": {
        "id": "oc6A-r_5iNxC"
      },
      "source": [
        "**Eliminar nodo a nodo de la lista**"
      ]
    },
    {
      "cell_type": "code",
      "metadata": {
        "id": "7F0OcTmhiRQu"
      },
      "source": [
        "lista_d.eliminar(201915861)\n",
        "lista_d.recorrer()"
      ],
      "execution_count": null,
      "outputs": []
    },
    {
      "cell_type": "code",
      "metadata": {
        "id": "2bsaV69xiSgC"
      },
      "source": [
        "lista_d.eliminar(201915860)\n",
        "lista_d.recorrer()"
      ],
      "execution_count": null,
      "outputs": []
    },
    {
      "cell_type": "code",
      "metadata": {
        "id": "pYuH5UpyiTrC"
      },
      "source": [
        "lista_d.eliminar(201915059)\n",
        "lista_d.recorrer()"
      ],
      "execution_count": null,
      "outputs": []
    },
    {
      "cell_type": "markdown",
      "metadata": {
        "id": "RYpdtqGziUkN"
      },
      "source": [
        "**Búsqueda**"
      ]
    },
    {
      "cell_type": "code",
      "metadata": {
        "colab": {
          "base_uri": "https://localhost:8080/"
        },
        "id": "QN_t-hVniWTG",
        "outputId": "08c1c53f-0e6f-439b-f8fa-f35d9dbbd73c"
      },
      "source": [
        "lista_d.buscar(201915860)\n",
        "lista_d.buscar(5623452)"
      ],
      "execution_count": null,
      "outputs": [
        {
          "output_type": "stream",
          "text": [
            "El nodo no existe en la lista\n",
            "El nodo no existe en la lista\n"
          ],
          "name": "stdout"
        }
      ]
    }
  ]
}